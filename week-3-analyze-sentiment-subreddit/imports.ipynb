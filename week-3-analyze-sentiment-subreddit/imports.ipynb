{
 "cells": [
  {
   "cell_type": "code",
   "execution_count": 3,
   "id": "dd8ca316",
   "metadata": {},
   "outputs": [
    {
     "name": "stdout",
     "output_type": "stream",
     "text": [
      "\u001b[33mWARNING: Keyring is skipped due to an exception: Failed to unlock the collection!\u001b[0m\n",
      "\u001b[33mWARNING: Keyring is skipped due to an exception: Failed to unlock the collection!\u001b[0m\n",
      "Requirement already up-to-date: transformers in /home/przemek/anaconda3/envs/volumes/lib/python3.7/site-packages (4.20.1)\n",
      "\u001b[33mWARNING: Keyring is skipped due to an exception: Failed to unlock the collection!\u001b[0m\n",
      "\u001b[33mWARNING: Keyring is skipped due to an exception: Failed to unlock the collection!\u001b[0m\n",
      "Requirement already up-to-date: praw in /home/przemek/anaconda3/envs/volumes/lib/python3.7/site-packages (7.6.0)\n",
      "\u001b[33mWARNING: Keyring is skipped due to an exception: Failed to unlock the collection!\u001b[0m\n",
      "\u001b[33mWARNING: Keyring is skipped due to an exception: Failed to unlock the collection!\u001b[0m\n",
      "Requirement already up-to-date: torch in /home/przemek/anaconda3/envs/volumes/lib/python3.7/site-packages (1.12.0)\n",
      "\u001b[33mWARNING: Keyring is skipped due to an exception: Failed to unlock the collection!\u001b[0m\n",
      "\u001b[33mWARNING: Keyring is skipped due to an exception: Failed to unlock the collection!\u001b[0m\n",
      "Requirement already up-to-date: numpy in /home/przemek/anaconda3/envs/volumes/lib/python3.7/site-packages (1.21.6)\n",
      "\u001b[33mWARNING: Keyring is skipped due to an exception: Failed to unlock the collection!\u001b[0m\n",
      "\u001b[33mWARNING: Keyring is skipped due to an exception: Failed to unlock the collection!\u001b[0m\n",
      "Requirement already up-to-date: pandas in /home/przemek/anaconda3/envs/volumes/lib/python3.7/site-packages (1.3.5)\n",
      "Requirement already satisfied, skipping upgrade: tqdm>=4.27 in /home/przemek/anaconda3/envs/volumes/lib/python3.7/site-packages (from transformers) (4.42.1)\n",
      "Requirement already satisfied, skipping upgrade: requests in /home/przemek/anaconda3/envs/volumes/lib/python3.7/site-packages (from transformers) (2.27.1)\n",
      "Requirement already satisfied, skipping upgrade: huggingface-hub<1.0,>=0.1.0 in /home/przemek/anaconda3/envs/volumes/lib/python3.7/site-packages (from transformers) (0.8.1)\n",
      "Requirement already satisfied, skipping upgrade: filelock in /home/przemek/anaconda3/envs/volumes/lib/python3.7/site-packages (from transformers) (3.0.12)\n",
      "Requirement already satisfied, skipping upgrade: importlib-metadata; python_version < \"3.8\" in /home/przemek/anaconda3/envs/volumes/lib/python3.7/site-packages (from transformers) (1.5.0)\n",
      "Requirement already satisfied, skipping upgrade: packaging>=20.0 in /home/przemek/anaconda3/envs/volumes/lib/python3.7/site-packages (from transformers) (21.3)\n",
      "Requirement already satisfied, skipping upgrade: tokenizers!=0.11.3,<0.13,>=0.11.1 in /home/przemek/anaconda3/envs/volumes/lib/python3.7/site-packages (from transformers) (0.12.1)\n",
      "Requirement already satisfied, skipping upgrade: pyyaml>=5.1 in /home/przemek/anaconda3/envs/volumes/lib/python3.7/site-packages (from transformers) (5.3)\n",
      "Requirement already satisfied, skipping upgrade: regex!=2019.12.17 in /home/przemek/anaconda3/envs/volumes/lib/python3.7/site-packages (from transformers) (2022.7.9)\n",
      "Requirement already satisfied, skipping upgrade: prawcore<3,>=2.1 in /home/przemek/anaconda3/envs/volumes/lib/python3.7/site-packages (from praw) (2.3.0)\n",
      "Requirement already satisfied, skipping upgrade: websocket-client>=0.54.0 in /home/przemek/anaconda3/envs/volumes/lib/python3.7/site-packages (from praw) (1.2.1)\n",
      "Requirement already satisfied, skipping upgrade: update-checker>=0.18 in /home/przemek/anaconda3/envs/volumes/lib/python3.7/site-packages (from praw) (0.18.0)\n",
      "Requirement already satisfied, skipping upgrade: typing-extensions in /home/przemek/anaconda3/envs/volumes/lib/python3.7/site-packages (from torch) (3.10.0.2)\n",
      "Requirement already satisfied, skipping upgrade: python-dateutil>=2.7.3 in /home/przemek/anaconda3/envs/volumes/lib/python3.7/site-packages (from pandas) (2.8.1)\n",
      "Requirement already satisfied, skipping upgrade: pytz>=2017.3 in /home/przemek/anaconda3/envs/volumes/lib/python3.7/site-packages (from pandas) (2019.3)\n",
      "Requirement already satisfied, skipping upgrade: certifi>=2017.4.17 in /home/przemek/anaconda3/envs/volumes/lib/python3.7/site-packages (from requests->transformers) (2021.10.8)\n",
      "Requirement already satisfied, skipping upgrade: idna<4,>=2.5; python_version >= \"3\" in /home/przemek/anaconda3/envs/volumes/lib/python3.7/site-packages (from requests->transformers) (2.8)\n",
      "Requirement already satisfied, skipping upgrade: charset-normalizer~=2.0.0; python_version >= \"3\" in /home/przemek/anaconda3/envs/volumes/lib/python3.7/site-packages (from requests->transformers) (2.0.12)\n",
      "Requirement already satisfied, skipping upgrade: urllib3<1.27,>=1.21.1 in /home/przemek/anaconda3/envs/volumes/lib/python3.7/site-packages (from requests->transformers) (1.25.8)\n",
      "Requirement already satisfied, skipping upgrade: zipp>=0.5 in /home/przemek/anaconda3/envs/volumes/lib/python3.7/site-packages (from importlib-metadata; python_version < \"3.8\"->transformers) (3.8.0)\n",
      "Requirement already satisfied, skipping upgrade: pyparsing!=3.0.5,>=2.0.2 in /home/przemek/anaconda3/envs/volumes/lib/python3.7/site-packages (from packaging>=20.0->transformers) (2.4.6)\n",
      "Requirement already satisfied, skipping upgrade: six>=1.5 in /home/przemek/anaconda3/envs/volumes/lib/python3.7/site-packages (from python-dateutil>=2.7.3->pandas) (1.15.0)\n"
     ]
    }
   ],
   "source": [
    "!pip install -U transformers praw torch numpy pandas"
   ]
  },
  {
   "cell_type": "code",
   "execution_count": null,
   "id": "984f0141-c7c8-4e65-aa70-f1432145eb47",
   "metadata": {},
   "outputs": [],
   "source": []
  }
 ],
 "metadata": {
  "kernelspec": {
   "display_name": "volumes",
   "language": "python",
   "name": "volumes"
  },
  "language_info": {
   "codemirror_mode": {
    "name": "ipython",
    "version": 3
   },
   "file_extension": ".py",
   "mimetype": "text/x-python",
   "name": "python",
   "nbconvert_exporter": "python",
   "pygments_lexer": "ipython3",
   "version": "3.7.6"
  }
 },
 "nbformat": 4,
 "nbformat_minor": 5
}
